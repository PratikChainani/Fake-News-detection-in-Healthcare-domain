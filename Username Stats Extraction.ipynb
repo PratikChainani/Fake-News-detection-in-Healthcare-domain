{
 "cells": [
  {
   "cell_type": "code",
   "execution_count": 2,
   "metadata": {
    "executionInfo": {
     "elapsed": 1097,
     "status": "ok",
     "timestamp": 1608316148465,
     "user": {
      "displayName": "Ayan Basak",
      "photoUrl": "",
      "userId": "03457614456337947866"
     },
     "user_tz": -330
    },
    "id": "Rn9c2-eBDeqp"
   },
   "outputs": [],
   "source": [
    "import pandas as pd\n",
    "import re\n",
    "import json\n"
   ]
  },
  {
   "cell_type": "code",
   "execution_count": 3,
   "metadata": {
    "executionInfo": {
     "elapsed": 3618,
     "status": "ok",
     "timestamp": 1608316019612,
     "user": {
      "displayName": "Ayan Basak",
      "photoUrl": "",
      "userId": "03457614456337947866"
     },
     "user_tz": -330
    },
    "id": "V-hqJugmRbE5"
   },
   "outputs": [],
   "source": [
    "train = pd.read_csv('../data/Constraint_Train.csv')\n",
    "test = pd.read_csv('../data/Constraint_Test.csv')"
   ]
  },
  {
   "cell_type": "code",
   "execution_count": 4,
   "metadata": {
    "colab": {
     "base_uri": "https://localhost:8080/",
     "height": 111
    },
    "executionInfo": {
     "elapsed": 3608,
     "status": "ok",
     "timestamp": 1608316019613,
     "user": {
      "displayName": "Ayan Basak",
      "photoUrl": "",
      "userId": "03457614456337947866"
     },
     "user_tz": -330
    },
    "id": "Bq9TxBWXRcMM",
    "outputId": "c0a14abf-f68d-47c7-ecab-78f35aa7fd86"
   },
   "outputs": [
    {
     "data": {
      "text/html": [
       "<div>\n",
       "<style scoped>\n",
       "    .dataframe tbody tr th:only-of-type {\n",
       "        vertical-align: middle;\n",
       "    }\n",
       "\n",
       "    .dataframe tbody tr th {\n",
       "        vertical-align: top;\n",
       "    }\n",
       "\n",
       "    .dataframe thead th {\n",
       "        text-align: right;\n",
       "    }\n",
       "</style>\n",
       "<table border=\"1\" class=\"dataframe\">\n",
       "  <thead>\n",
       "    <tr style=\"text-align: right;\">\n",
       "      <th></th>\n",
       "      <th>id</th>\n",
       "      <th>tweet</th>\n",
       "      <th>label</th>\n",
       "    </tr>\n",
       "  </thead>\n",
       "  <tbody>\n",
       "    <tr>\n",
       "      <th>0</th>\n",
       "      <td>1</td>\n",
       "      <td>The CDC currently reports 99031 deaths. In gen...</td>\n",
       "      <td>real</td>\n",
       "    </tr>\n",
       "    <tr>\n",
       "      <th>1</th>\n",
       "      <td>2</td>\n",
       "      <td>States reported 1121 deaths a small rise from ...</td>\n",
       "      <td>real</td>\n",
       "    </tr>\n",
       "  </tbody>\n",
       "</table>\n",
       "</div>"
      ],
      "text/plain": [
       "   id                                              tweet label\n",
       "0   1  The CDC currently reports 99031 deaths. In gen...  real\n",
       "1   2  States reported 1121 deaths a small rise from ...  real"
      ]
     },
     "execution_count": 4,
     "metadata": {},
     "output_type": "execute_result"
    }
   ],
   "source": [
    "train.head(2)"
   ]
  },
  {
   "cell_type": "code",
   "execution_count": 5,
   "metadata": {
    "executionInfo": {
     "elapsed": 3607,
     "status": "ok",
     "timestamp": 1608316019614,
     "user": {
      "displayName": "Ayan Basak",
      "photoUrl": "",
      "userId": "03457614456337947866"
     },
     "user_tz": -330
    },
    "id": "DHw4KdWwRzh_"
   },
   "outputs": [],
   "source": [
    "tweets = list(train['tweet'])\n",
    "labels = list(train['label'])"
   ]
  },
  {
   "cell_type": "code",
   "execution_count": null,
   "metadata": {},
   "outputs": [],
   "source": []
  },
  {
   "cell_type": "markdown",
   "metadata": {},
   "source": [
    "# Getting Unique username Handles from Tweets"
   ]
  },
  {
   "cell_type": "code",
   "execution_count": 6,
   "metadata": {
    "executionInfo": {
     "elapsed": 3605,
     "status": "ok",
     "timestamp": 1608316019614,
     "user": {
      "displayName": "Ayan Basak",
      "photoUrl": "",
      "userId": "03457614456337947866"
     },
     "user_tz": -330
    },
    "id": "xOD82zmZRcPF"
   },
   "outputs": [],
   "source": [
    "usernames = []\n",
    "for t in tweets:\n",
    "  lis = re.findall(\"@([a-z0-9_]+)\", t, re.I)\n",
    "  if len(lis)>0:\n",
    "    usernames.extend(lis)\n",
    "\n",
    "unique_usernames = list(set(usernames))\n"
   ]
  },
  {
   "cell_type": "code",
   "execution_count": 8,
   "metadata": {},
   "outputs": [
    {
     "name": "stdout",
     "output_type": "stream",
     "text": [
      "['PTFCOVID19', 'JoshFrydenberg', 'kenpomeroy', 'ajdlinux', 'kdhauck', 'NickAPalmer', 'UNinIndia', 'Roblev0', 'DeborahZinger', 'CheeseNBranston', 'yogrishiramdev', 'SenateDems', 'mohit0175', 'econstandard', 'PeterZeihan', 'DrNancyM_CDC', 'charliekirk11', 'RuddsBunny', 'AriFleischer', 'joshtpm', 'aajtak', 'AbbottNews', 'RenukaJain6', 'WhiteHouse', 'BreakfastNews', 'rajesha_rao', 'Keir_Starmer', 'RGlobalism', 'ikaveri', 'alexkx3', 'CNNnews18', 'the_fauxy', 'RapidTests', 'Julie34479', 'VinGuptaMD', 'MaxCRoser', 'CDCemergency', 'IBergwiesel', 'beeodune', 'Smileygirl19683', 'ICMRDelhi', 'IcahnMountSinai', 'rmack2x', 'kiwibardy', 'aiims_newdelhi', 'XpressBengaluru', 'VP', 'weare_spartan', 'AshwiniKChoubey', 'MBIEgovtnz', 'TheSELC', 'CebmOxford', 'chesh', 'ABCWorldNews', 'cjtjgeol', 'MhfwGoUP', 'thereal_truther', 'ProfAkinAbayomi', 'DrTomFrieden', 'DrIbram', 'WndlB', 'HHSGov', 'AyushmanHWCs', 'ColumbiaMed', 'careeningspace', 'antonioguterres', 'ProfBhargava', 'globalnews', 'KytheAntiComguy', 'cuttingforstone', 'KayBurley', 'kmedved', 'geraintmeysydd', 'tatahealth', 'Wh', 'CollectorJamngr', 'SaleyhaAhsan', 'ptp335', 'RealDonaldTrump', 'ONS', 'tangerinelaw', 'heymanitshayden', 'SORMAS_open', 'UNICEFIndia', 'WHOSEARO', 'DunsanyJack', 'hackingdata', 'spavis', 'JamesDSteinberg', 'mara_kont', 'mcuban', 'CDCFlu', 'Munchbunch87', 'RemaNagarajan', 'alexharv074', 'QandA', 'DawnTJ90', 'jsssms', 'gavi', 'agniveer', 'ANI', 'SRileyIDD', 'SuzanneEvans1', 'kmccready', 'Robertsfinkle', 'aidanisagirl', 'BroomeInWelly', 'JEChalmers', 'nsitharaman', 'Homer4K', 'BorisJohnson', 'AntiracismCtr', 'DOMSinaiNYC', 'cmohry', 'jacindaardern', 'AnnaGConnell', 'butlerrichard2', 'malarianomoreuk', 'peterverhaar', 'RandPaul', 'chrismartenson', 'GovtOfImoState', 'KamalaHarris', 'billdmccarthy', 'pjpaton', 'BrknMan', 'JackWestMD', 'DFID_UK', 'thinks_about_it', 'RushhourP', 'KDHE', 'ZeeNews', 'chrislhayes', 'NTANewsNow', 'jdeely', 'LSMOH', 'Mike_Hixenbaugh', 'CDC_NCEZID', 'danielleiwood', 'VaccineEpi', 'resiguru', 'ERSpublications', 'neil_ferguson', 'PTI_News', 'BallouxFrancois', 'talkRADIO', 'CovidActNow', 'MobilePunch', 'Chrisleenders1', 'webmd', 'FeynmanFreaky', 'questdiag', 'khaleeSYD_', 'rosnovsky', 'MantralayaRoom', 'daveman19802', 'VICE', 'AamAadmiParty', 'MoHFW_INDI', 'CarlsbadCharlie', 'houstonchron', 'jsolomonReports', 'CDCtravel', 'CanadianCorrup1', 'AdamJKucharski', 'jesus_jimz', 'JBalsich', 'NEJM', 'justin_hart', 'Mumbaiyb', 'RidgeOnSunday', 'novakglobal', 'Dardedar', 'GladysB', 'SteveFDA', 'UNICEFmedia', 'PIBHomeAffairs', 'wvumediacollege', 'DWildemuth', 'pommylee', 'gretchenwhitmer', 'ARISEtv', 'CDC_HIVAIDS', 'GovPhilScott', 'LifeSciHiggins', 'DailyNeb', 'followlasg', 'skynewsmichelle', 'PMOIndia', 'morris1_k', 'asantos24', 'midorik0a', 'mindedmusically', 'JamesTodaroMD', 'COVID19Tracking', 'TheDisproof', 'MikeDel21893959', 'RanaAyyub', 'TheRealStoryPlz', 'PeterWa97559477', 'Lord_Loredo', 'CedarCourtHotel', 'NigEducation', 'Arkancideisreal', 'ashishkjha', 'Snikwah37', 'chinwe_ochu', 'ProjectLincoln', 'Aintropy', 'AIT_Online', 'jordan_zino', 'fema', 'USATODAY', 'CBSNews', 'piamancini', 'joncraig', 'tripleGGGx', 'ntnsndr', 'ProfSushmaGupta', 'pplscouncil', 'krisparag1', 'jeremy_hume', 'aadajoli', 'lsunder1', 'KagAshley', 'LynnRahn1', 'HtServadac', 'BaileInis', 'FoxNewsSunday', 'couch_maria', 'SCClemons', 'Google', 'markwh2001', 'RickLeventhal', 'minhealthnz', 'RAshokaBJP', 'michaelmina_lab', 'KenyaPhysicians', 'Tesco', 'friddlecopper', 'mla_sudhakar', 'YouTube', 'seanmdav', 'yayitsrob', 'ndmaindia', 'PritiPatel', 'ScottGottliebMD', '4523I5', 'Over400ppm', 'NBPAustralia', 'pratimbose', 'GiniMiniManeMo', 'alexismadrigal', 'tmccormick', 'msisodia', 'FamiliaFeeling', 'Robbiedocs', 'BenFordham', 'UNICEF', 'IvankaTrump', 'VetSree', 'RobertBuckland', 'NateSilver538', 'Noahpinion', 'Chikwe_I', 'RepAndyBiggsAZ', 'JennyMikakos', 'BARDA', 'CDCMMWR', 'DrTedros', 'luvhopecourage', 'NYTimes', 'MIB_India', '_devBhatt', 'scaramangi', 'BBMPCOMM', 'KarluskaP', 'ricksheatcool', 'Georgetown', 'HSELive', 'Cybertiiger', 'IndiainGuyana', 'rashlessdoctor', 'cassandragoldie', 'SexCounseling', 'ywoga', 'MathGuy_7', 'TVCconnect', 'MumbaiPolice', 'pabloperguz', 'dralisanders', 'AlikoDangoteFdn', 'myyogiadityanath', 'MKEhealth', 'ScottMorrisonMP', 'bkum2000', 'OfficialDMRC', 'TheDailyMao', 'robinmonotti', 'ianuragthakur', 'mediawise', 'UPGovt', 'DrHVoffice', 'realDonaldTrump', 'POTUS', 'D_Roopa_IPS', 'sreesub', 'StateDept', 'MsKateMcD', 'tanuj7sagar', 'chitraaum', 'RebeccaDayMEN', 'JamieHartley10', 'ndgov', 'USCDCNIGERIA', 'CDCGlobal', 'BrigCM123', 'FaheemYounus', 'dbaerwald1', 'MartinDaubney', 'UNDICTION', 'GovRonDeSantis', 'rspathania', 'ZacBissonnette', 'HitFMCalabar', 'paulreiddublin', 'YaakovNahmias', 'shaskell12', 'AAMCtoday', 'ElsieIlorifor', 'DrJudyAMikovits', 'Ryan_Mac_Phd', 'zev_dr', 'veryvirology', 'GaonConnection', 'PiaBizLaw', 'LastWordWilliam', 'COVIDNewsByMIB', 'tlowdon', 'ImTheRealDMac', 'Fauntleroy1934', 'anjan1588', 'jdmaresco', 'branderzy', 'edpilkington', 'brianbloop2', 'DrCCostelloe', 'Imperial_JIDEA', 'CCSImpact', 'EU_Commission', 'Dharmen46587056', 'DailyInterLake', 'TQMKA', 'acmadotgov', 'HarvardGH', 'colstee', 'DaveZuckermanVT', 'drjohnwhyte', 'WGRZ', 'BanCheneProduct', 'thehill', 'g0leary', 'indSupremeCourt', 'StormSignalSA', 'ICPH_homeless', 'shondagarrison', 'GunaRockYa', 'RachelReevesMP', 'JMC_Starbug', 'DMiliband', 'opencollect', 'covid19oyo_eoc', 'ssfarouk', 'ClimateKids2', 'shevanthi_n', 'kissane', 'childrensphila', 'anusharavi10', 'BiocomCA', 'CT_Bergstrom', 'PolitiFactWisc', 'DeplorableDebRN', 'SwannyQLD', 'flaxter', 'ricci_sergienko', 'WHOPhilippines', 'WFP', 'colleenkraftmd', 'kitchencone', 'VinLew', 'WhatsApp', 'iammisstrees', 'AngieHolan', 'HHS_ASH', 'OfficialFCTA', 'dr_sourabhkp', 'WADeptHealth', 'C4ETech', 'robertcecil1608', 'PIB_India', 'salaambaalakngo', 'MarkedByCovid', 'NCDCgov', 'OdoyleCharlotte', 'GovWhitmer', 'MattHancock', 'AmTrehan', 'LeeHurstComic', 'GovParsonMO', 'DHFWKA', 'roboskis', 'NITIAayog', 'swintersections', 'OutOfTheDarkAge', 'mexiwi', 'BBMP_MAYOR', 'ariellesophia', 'drdavidsamadi', 'BJP4Karnataka', 'kunfaaya', 'australian', 'dw2essex', 'JuddLegum', 'ShaneJa16905901', 'BillHanage', 'madhukishwar', 'ReportersLab', 'hellochante', 'Canada', 'ElsieIlori', 'Macid3000', 'DovMichaeli', 'DelibroLawrence', 'iaspankajpandey', 'CDCHeart_Stroke', 'twt2abhi', 'FOX5Atlanta', 'Rovi_IR', 'CMSGov', 'jburnmurdoch', 'Data4BlackLives', 'DHSgov', 'PaulPauwaert', 'NormanBrennan', 'Co_Immunity_', 'Godblsmnymkr', 'MedBennett', 'brittajewell', 'DrEOEhanire', 'Davidmetroland', 'WhatTheBit', 'PhillyInquirer', 'WHOAFRO', 'DHSWI', 'FraserNelson', 'Covid19Crusher', 'ZubyMusic', 'ReckedRik', 'P', 'TheCyberDagger', 'channelstv', 'PaprikaLady', 'afewpoints', 'drsanjaygupta', 'mandilovell', 'SoapItUpHard', 'HealthyFla', 'Mahesh10816', 'dandiemann', 'leo', 'GracieLuAnn24', 'InconvenientTr5', 'YorkshireBri', 'dpfunke', 'jrwyke', 'ABPNews', 'VMaledew', 'backtothebeach2', 'HuntsonMark', 'ConservVoice', 'sadhvipragya_mp', 'AndySpecht', 'chrisgulli', 'erwillia', 'G', 'The_Leaver', 'andrewlawrence', 'DougBurgum', 'JohnAbrahamCLUB', 'creatiwit', 'Surgeon_General', 'KarinaClaudiob', 'ArvindKejriwal', 'cnbcafrica', 'pronxt', 'mygovindia', 'BrianStryker', 'Osprey0', 'propublica', 'Ravenrider2020', 'IndiaDST', 'DDNewslive', 'HealthwireMedia', 'Rick_at_WSNZ', 'fireAnd_Bloodd', 'CarlosdelRio7', 'readingkafka', 'JohnKubie', 'AlexMahadevan', 'ArvinderSoin', 'NetizenParo', 'SaketGokhale', 'PIBMumbai', 'RanuDhillon', 'KamathGurudutt', 'SenatorKapenga', 'MoCA_GoI', 'DepSecHargan', 'Vic_Rollison', 'IndianEmbTokyo', 'trvrb', 'lowerthetemp', 'Independent', 'DavidGSmith18', 'drjohnm', 'BANigeria', 'ClareAdams', 'factchecknet', 'undark', 'NIOSH', 'TheJohnAbraham', 'CNBC', 'RijpeW', 'IHSTowers', 'vijayrupanibjp', 'FatherBob', 'CarlHan30554840', 'kevinfurr', 'free67847229', 'brikeilarcnn', 'DrSamirBhatt', 'Medscape', 'jacobselisabeth', 'ndtv', 'BepDelta', 'JustinTrudeau', 'BankofAmerica', 'youyanggu', 'apple', 'AmySherman1', 'paulmromer', 'MENnewsdesk', 'CDCInjury', 'Ratnaprabha_IAS', 'creativ61543336', 'India', 'madavidj', 'BBCNews', 'sangeeta0312', 'bruce_lambert', 'RicciGeri', 'susan04071', 'PeterJ_Walker', 'PressSec', 'KCTaz', 'shriduttrao', 'Cernovich', 'CDCDirector', 'cathyby', 'modiji', 'Begentle50', 'BT_India', 'DelegateStewart', 'DrOz', 'BiharHealthDept', 'hopkinsCDHS', 'kff', 'CDC_eHealth', 'BeowulfSchaefer', 'IFAD', 'AlaMerQld', 'DamienHamilto17', 'anjanaomkashyap', 'KHoneyfordStats', 'PMOInd', 'RaviKundurthi', 'ICMR', 'jessnielsen55', 'FAO', 'pantherman45', 'NFIDvaccines', 'garysaintdooley', 'WHO', 'drashwathcn', 'HMOIndia', 'NPR', 'ashoswai', 'Bananenrijperij', 'IDPH', 'AJEnglish', 'coronams', 'CSp911', 'barcodenz', 'KitMalthouse', 'GrahameMorris', 'health', 'UNDP', 'ACOSS', 'HedgeyeDJ', 'johnpavlovitz', 'Univcordoba', 'IsabelOakeshott', 'jimdtweet', 'WAPFLondon', 'Sir_Tom_Tucker', 'GentlemanGeorge', 'PrakashJavdekar', 'CaptShaktiLumba', 'butchthorne', 'SoukyaOfficial', 'MoHFW_', 'dribram', 'RobGooders', 'ESMO', 'GHS', 'William05548637', 'ASlavitt', 'emmawehipeihana', 'indiatv', 'jimcramer', 'IasAlok', 'csogok', 'Barbarajdurkin', 'kryzia_marie', 'MinistryWCD', 'harvardmed', 'TheRock', 'TheLancet', 'NIH', 'usponline', 'uni_maid', 'InfoInterest', 'GovNedLamont', 'Imperial_EM', 'Fmohnigeria', 'PolitiFactNC', 'susankilfoy', 'Microsoft', 'MBuhari', 'David_Vaporium', 'UniofOxford', 'tamazonx', 'DanielTobias_', 'literaryeric', 'boomlivein', 'IngrahamAngle', 'Perchbicester', 'TejinderSsodhi', 'Yahoo', 'arielbogle', 'ltgrusselhonore', 'JoeWasserman', 'Appalachia100', 'cnni', 'nealkhosla', 'CTrevettNZH', 'Greyfoxp', 'kylegriffin1', 'ScienceMagazine', 'JoeBiden', 'BharatBiotech', 'nighealthwatch', 'yatezy84', 'ICMRDELHI', 'airnewsalerts', 'SJforKids', 'Dr_Ellie', 'CovidIndiaSeva', 'MountsinaiRMTI', 'mvankerkhove', 'IrishEurophile', 'raffi', 'ThirdEyeBlind9', 'covidactnow', 'NVGovernment', 'US_FDA', 'covid19nccc', 'Mac_Paddy54', 'DrMamora', 'LBGoodnessGrows', 'RoyPentland', 'nataleedesotell', 'zack', 'ani_digital', 'Viruswatch2021', 'AAI_Official', 'WebMD', 'NigeriaGov', 'DeccanHerald', 'n3113n', 'JohnsHopkinsEPI', 'ChaddyStacksDFS', 'JohnsHopkins', 'James_Gross', 'latimeralder', 'sabrina_bia3', '1000Frolly', 'steven_reaney', 'Nigel_Farage', 'nytimes', 'icmrnirrh', 'TomFitton', 'KevinlyFather', 'wacotrib', 'tony80554056', 'Chancine', 'DeepalTrevedie', 'NagaTrooper', 'giles7452', 'PNouvellet', 'DBTIndia', 'thephichick', 'OfficialOSGFNG', 'CMOGuj', 'drharshvardhan', 'statnews', 'nature', 'WeVotedToLeave', 'CDCEnvironment', 'TuckerCarlson', 'GavinNewsom', 'thatAmartya', 'theicai', 'SpeakerPelosi', 'dpkpillay12', 'realdonaldtrump', 'AmerMedicalAssn', 'David19531501', 'bendepear', 'MadMorr', 'AsxGold', 'Edele_Bear', 'FoxInWolfs', 'abledoc', 'Chris_Fairchild', 'PTAMOM7', 'chicagosmayor', 'wordpressdotcom', 'CDCgov', 'covid19tracking', 'UNReliefChief', 'foxandfriends', 'Afrs1077Fm', 'CMOfficeUP', 'no2wind', 'SeptAteNeuf', 'edinburghuni', 'jhuber', 'DrJitendraSingh', 'garner_forest', 'MoH', 'eu_echo', 'JohnRya13591294', 'KHNews', 'BloombergQuint', 'benzorn', 'MarvinBrite', 'PolitiFactTexas', 'MoHFW_INDIA', 'DRDO_India', 'daniel_sierra81', 'wionews', 'danwootton', 'MrDelvan', 'lolageek', 'GovSisolak', 'twang0518', 'myjourneymyself', 'karaoehler', 'MsRightMsRight', 'JamesBl04750891', 'GTG46338929', 'PathogenScribe', 'ProfKarolSikora', 'AlistairHaimes', 'PolitiFact', 'globuleaks', 'viv_cooper', 'OfficialAITlive', 'EricTopol', 'freenationtoday', 'MamataOfficial', 'nypost', 'DrMikeRyan', 'Tejasvi_Surya', 'i_am_adunnii', 'Gazza41', 'ArthurCaplan', 'ISMMSKidney', 'moayush', 'OxfordEVCharger', 'Github', 'DHSCgovuk', 'ElDano91633751', 'Teddysmom1', 'MarshaBlackburn', 'kid_alabama', 'lesamitchell', 'BSYBJP', 'NMHheartdoc', 'archillect', 'EllenCutch', '80WebbSt', 'CD', 'narendramodi', 'DDIndialive', 'BiomedJ', 'Whitwyatt', 'pawan90311', 'SecAzar', 'GovLarryHogan', 'Jabalpursafety', 'dgpgujarat', 'grahamscooke', 'imperialcollege', 'robreiner', 'OfficeofUT', 'VeuveK', 'AfricaCDC', 'daftrucker1', 'ConceptualJames', 'IndINDIANARMY', 'MattAdkin', 'TheFreds', 'NigeriaFELTP', 'vonderleyen', 'Narvuntien', 'CEPIvaccines', 'JohnKin17583856', 'CSIR_IND', 'BellaDonaModels', 'fccologne4eva', 'DrJlieberman', 'dgm415', 'samarjeet_n', 'kusa_weir', 'CDC_TB', 'htdelhi', 'Jag11814459', 'TheAtlantic', 'angie_rasmussen', 'MMMHappiness1', 'adammccu', 'Aball001Andrea', 'anak2422anak', 'cyborgnot', 'mybmc', 'chrisgregson123', 'CECCgov', 'RustyAway', 'alanlcit', 'CNN', 'ImDanThompson', 'mbdavolt', 'OmarKelly', 'Squeakydog1', 'AEI', 'DigDougFTW', 'contactkdsg', 'ashishskynews', 'amazon', 'WorldHealthOrg2', 'XanderArmstrong', 'GregMilamSky', 'NastySurf', 'cdc', 'KNSMOH', 'OsmosisMed', 'CMOMaharashtra', 'riktheozfrog']\n"
     ]
    }
   ],
   "source": [
    "print(unique_usernames)"
   ]
  },
  {
   "cell_type": "markdown",
   "metadata": {},
   "source": [
    "# Computing \"Fake\" and \"Real\" probability values for Username Handles"
   ]
  },
  {
   "cell_type": "code",
   "execution_count": 6,
   "metadata": {
    "executionInfo": {
     "elapsed": 3604,
     "status": "ok",
     "timestamp": 1608316019615,
     "user": {
      "displayName": "Ayan Basak",
      "photoUrl": "",
      "userId": "03457614456337947866"
     },
     "user_tz": -330
    },
    "id": "wyjIhtVoR-BZ"
   },
   "outputs": [],
   "source": [
    "freq_dic={}\n",
    "\n",
    "for un in unique_usernames:\n",
    "  freq_dic[un]=0\n",
    "\n",
    "for un in usernames:\n",
    "  freq_dic[un]+=1\n",
    "  "
   ]
  },
  {
   "cell_type": "code",
   "execution_count": 7,
   "metadata": {
    "executionInfo": {
     "elapsed": 3600,
     "status": "ok",
     "timestamp": 1608316019615,
     "user": {
      "displayName": "Ayan Basak",
      "photoUrl": "",
      "userId": "03457614456337947866"
     },
     "user_tz": -330
    },
    "id": "ZPNbJMKgSLAm"
   },
   "outputs": [],
   "source": [
    "# freq_dic"
   ]
  },
  {
   "cell_type": "code",
   "execution_count": 8,
   "metadata": {
    "executionInfo": {
     "elapsed": 3599,
     "status": "ok",
     "timestamp": 1608316019616,
     "user": {
      "displayName": "Ayan Basak",
      "photoUrl": "",
      "userId": "03457614456337947866"
     },
     "user_tz": -330
    },
    "id": "_JMjlA1CTiG1"
   },
   "outputs": [],
   "source": [
    "label_freq_dic = {}\n",
    "for un in unique_usernames:\n",
    "  label_freq_dic[un] = {\"real\": 0, \"fake\": 0}\n",
    "\n",
    "for twt, lab in zip(tweets, labels):\n",
    "  username_list = re.findall(\"@([a-z0-9_]+)\", twt, re.I)\n",
    "  if len(username_list)>0:\n",
    "    for u in username_list:\n",
    "      label_freq_dic[u][lab]+=1\n"
   ]
  },
  {
   "cell_type": "code",
   "execution_count": 9,
   "metadata": {
    "executionInfo": {
     "elapsed": 3599,
     "status": "ok",
     "timestamp": 1608316019617,
     "user": {
      "displayName": "Ayan Basak",
      "photoUrl": "",
      "userId": "03457614456337947866"
     },
     "user_tz": -330
    },
    "id": "lTZJuqzoTzZF"
   },
   "outputs": [],
   "source": [
    "prob_dic = {}\n",
    "\n",
    "for i, j in label_freq_dic.items():\n",
    "  prob_dic[i] = {\"fake_probability\": j[\"fake\"]/(j[\"real\"]+j[\"fake\"]), \"real_probability\": j[\"real\"]/(j[\"real\"]+j[\"fake\"]), \"total_mentions\": j[\"real\"]+j[\"fake\"]}\n"
   ]
  },
  {
   "cell_type": "code",
   "execution_count": 10,
   "metadata": {
    "executionInfo": {
     "elapsed": 3598,
     "status": "ok",
     "timestamp": 1608316019619,
     "user": {
      "displayName": "Ayan Basak",
      "photoUrl": "",
      "userId": "03457614456337947866"
     },
     "user_tz": -330
    },
    "id": "yBIPCO5ATzbS"
   },
   "outputs": [],
   "source": [
    "import collections\n",
    "\n",
    "final_dic = collections.OrderedDict(sorted(prob_dic.items(), key=lambda t:t[1][\"total_mentions\"], reverse=True))\n"
   ]
  },
  {
   "cell_type": "code",
   "execution_count": 11,
   "metadata": {
    "executionInfo": {
     "elapsed": 1588,
     "status": "ok",
     "timestamp": 1608316322446,
     "user": {
      "displayName": "Ayan Basak",
      "photoUrl": "",
      "userId": "03457614456337947866"
     },
     "user_tz": -330
    },
    "id": "esmxtOBYjqV_"
   },
   "outputs": [],
   "source": [
    "final_dic = dict(final_dic)"
   ]
  },
  {
   "cell_type": "code",
   "execution_count": 12,
   "metadata": {
    "executionInfo": {
     "elapsed": 1027,
     "status": "ok",
     "timestamp": 1608316411212,
     "user": {
      "displayName": "Ayan Basak",
      "photoUrl": "",
      "userId": "03457614456337947866"
     },
     "user_tz": -330
    },
    "id": "ybgByL2_jqYe"
   },
   "outputs": [
    {
     "ename": "FileNotFoundError",
     "evalue": "[Errno 2] No such file or directory: '/content/drive/MyDrive/Constraint/Analysis/train_prob_vectors.json'",
     "output_type": "error",
     "traceback": [
      "\u001b[1;31m---------------------------------------------------------------------------\u001b[0m",
      "\u001b[1;31mFileNotFoundError\u001b[0m                         Traceback (most recent call last)",
      "\u001b[1;32m<ipython-input-12-7f7f7d23e034>\u001b[0m in \u001b[0;36m<module>\u001b[1;34m\u001b[0m\n\u001b[1;32m----> 1\u001b[1;33m \u001b[1;32mwith\u001b[0m \u001b[0mopen\u001b[0m\u001b[1;33m(\u001b[0m\u001b[1;34m'/content/drive/MyDrive/Constraint/Analysis/train_prob_vectors.json'\u001b[0m\u001b[1;33m,\u001b[0m \u001b[1;34m'w'\u001b[0m\u001b[1;33m)\u001b[0m \u001b[1;32mas\u001b[0m \u001b[0mfp\u001b[0m\u001b[1;33m:\u001b[0m\u001b[1;33m\u001b[0m\u001b[1;33m\u001b[0m\u001b[0m\n\u001b[0m\u001b[0;32m      2\u001b[0m     \u001b[0mjson\u001b[0m\u001b[1;33m.\u001b[0m\u001b[0mdump\u001b[0m\u001b[1;33m(\u001b[0m\u001b[0mfinal_dic\u001b[0m\u001b[1;33m,\u001b[0m \u001b[0mfp\u001b[0m\u001b[1;33m)\u001b[0m\u001b[1;33m\u001b[0m\u001b[1;33m\u001b[0m\u001b[0m\n",
      "\u001b[1;31mFileNotFoundError\u001b[0m: [Errno 2] No such file or directory: '/content/drive/MyDrive/Constraint/Analysis/train_prob_vectors.json'"
     ]
    }
   ],
   "source": [
    "with open('.Stat/train_prob_vectors.json', 'w') as fp:\n",
    "    json.dump(final_dic, fp)"
   ]
  },
  {
   "cell_type": "code",
   "execution_count": null,
   "metadata": {
    "id": "tYg37H-Ejqa-"
   },
   "outputs": [],
   "source": []
  },
  {
   "cell_type": "code",
   "execution_count": null,
   "metadata": {
    "colab": {
     "base_uri": "https://localhost:8080/"
    },
    "executionInfo": {
     "elapsed": 3026,
     "status": "ok",
     "timestamp": 1608273299214,
     "user": {
      "displayName": "Ayan Basak",
      "photoUrl": "",
      "userId": "03457614456337947866"
     },
     "user_tz": -330
    },
    "id": "XTK8j5BnjqdW",
    "outputId": "d9168cea-452f-400d-88d4-269e0bc6f537"
   },
   "outputs": [
    {
     "name": "stdout",
     "output_type": "stream",
     "text": [
      "https://t.co/sIo3fDstNr\n"
     ]
    }
   ],
   "source": [
    "import re\n",
    "\n",
    "myString = \"While farcical disinformation about the coronavirus is easily dismissed by medical professions your patients may get sucked in. https://t.co/sIo3fDstNr https://t.co/EmpQD7QzCU\"\n",
    "\n",
    "print(re.search(\"(?P<url>https?://[^\\s]+)\", myString).group(\"url\"))"
   ]
  },
  {
   "cell_type": "code",
   "execution_count": null,
   "metadata": {
    "colab": {
     "base_uri": "https://localhost:8080/"
    },
    "executionInfo": {
     "elapsed": 1477,
     "status": "ok",
     "timestamp": 1608273915748,
     "user": {
      "displayName": "Ayan Basak",
      "photoUrl": "",
      "userId": "03457614456337947866"
     },
     "user_tz": -330
    },
    "id": "Zu6Duf-RlEDX",
    "outputId": "6843427b-bfcf-412b-cb0a-e5fa2ab03eda"
   },
   "outputs": [
    {
     "name": "stdout",
     "output_type": "stream",
     "text": [
      "The shortened URL forwards to: https://www.medscape.com/viewarticle/935248?src=soc_tw_200806_mscpedt_news_mdscp_conspiracy&faf=1\n",
      "www.medscape.com\n"
     ]
    }
   ],
   "source": [
    "import requests\n",
    "shorturl = 'https://t.co/sIo3fDstNr'\n",
    "r = requests.get(shorturl)\n",
    "expanded_url = r.url\n",
    "print(\"\"\"The shortened URL forwards to: %s\"\"\" % r.url)\n",
    "print(expanded_url.split('/')[2])"
   ]
  },
  {
   "cell_type": "code",
   "execution_count": null,
   "metadata": {
    "id": "mxWc6sfplEGP"
   },
   "outputs": [],
   "source": []
  },
  {
   "cell_type": "code",
   "execution_count": null,
   "metadata": {
    "id": "RCnQtrdYTzfR"
   },
   "outputs": [],
   "source": []
  }
 ],
 "metadata": {
  "colab": {
   "authorship_tag": "ABX9TyP2Kjj+07mqZHup/j7x1dKa",
   "collapsed_sections": [],
   "mount_file_id": "1Qi0a8Hq6vuG559Ijxko0equrBFTDayEj",
   "name": "User Stats Extraction.ipynb",
   "provenance": []
  },
  "kernelspec": {
   "display_name": "Python 3",
   "language": "python",
   "name": "python3"
  },
  "language_info": {
   "codemirror_mode": {
    "name": "ipython",
    "version": 3
   },
   "file_extension": ".py",
   "mimetype": "text/x-python",
   "name": "python",
   "nbconvert_exporter": "python",
   "pygments_lexer": "ipython3",
   "version": "3.7.6"
  }
 },
 "nbformat": 4,
 "nbformat_minor": 1
}
