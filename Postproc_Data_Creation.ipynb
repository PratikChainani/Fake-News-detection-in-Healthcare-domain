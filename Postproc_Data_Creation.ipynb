{
  "nbformat": 4,
  "nbformat_minor": 0,
  "metadata": {
    "colab": {
      "name": "Postproc Data Creation6.ipynb",
      "provenance": [],
      "collapsed_sections": []
    },
    "kernelspec": {
      "display_name": "Python 3",
      "language": "python",
      "name": "python3"
    },
    "language_info": {
      "codemirror_mode": {
        "name": "ipython",
        "version": 3
      },
      "file_extension": ".py",
      "mimetype": "text/x-python",
      "name": "python",
      "nbconvert_exporter": "python",
      "pygments_lexer": "ipython3",
      "version": "3.8.5"
    }
  },
  "cells": [
    {
      "cell_type": "code",
      "metadata": {
        "id": "Z6b1S4kYPgDB"
      },
      "source": [
        "import pandas as pd\n"
      ],
      "execution_count": null,
      "outputs": []
    },
    {
      "cell_type": "code",
      "metadata": {
        "colab": {
          "base_uri": "https://localhost:8080/"
        },
        "id": "ZOJSQKA7Qpaq",
        "outputId": "947eef92-c748-4084-c5e0-2f053717b514"
      },
      "source": [
        "from google.colab import drive\n",
        "drive.mount('/content/drive')\n"
      ],
      "execution_count": null,
      "outputs": [
        {
          "output_type": "stream",
          "text": [
            "Mounted at /content/drive\n"
          ],
          "name": "stdout"
        }
      ]
    },
    {
      "cell_type": "code",
      "metadata": {
        "id": "jjs21VY-TQPx"
      },
      "source": [
        "train_feature_df = pd.read_csv('/content/drive/MyDrive/Colab Notebooks/covid data/data/model_prob.csv')\n",
        "test_feature_df = pd.read_csv('/content/drive/MyDrive/Colab Notebooks/covid data/data/model_probtest.csv')\n",
        "#test_feature_df = pd.read_csv('data/test_with_postproc_features.csv')\n"
      ],
      "execution_count": null,
      "outputs": []
    },
    {
      "cell_type": "code",
      "metadata": {
        "id": "ZxYZX_UoQol4"
      },
      "source": [
        ""
      ],
      "execution_count": null,
      "outputs": []
    },
    {
      "cell_type": "code",
      "metadata": {
        "colab": {
          "base_uri": "https://localhost:8080/",
          "height": 430
        },
        "id": "3flRwW5nfz-R",
        "outputId": "de6751a7-6de1-4d68-d36b-bf7b79f3727a"
      },
      "source": [
        "test_feature_df.head()"
      ],
      "execution_count": null,
      "outputs": [
        {
          "output_type": "execute_result",
          "data": {
            "text/html": [
              "<div>\n",
              "<style scoped>\n",
              "    .dataframe tbody tr th:only-of-type {\n",
              "        vertical-align: middle;\n",
              "    }\n",
              "\n",
              "    .dataframe tbody tr th {\n",
              "        vertical-align: top;\n",
              "    }\n",
              "\n",
              "    .dataframe thead th {\n",
              "        text-align: right;\n",
              "    }\n",
              "</style>\n",
              "<table border=\"1\" class=\"dataframe\">\n",
              "  <thead>\n",
              "    <tr style=\"text-align: right;\">\n",
              "      <th></th>\n",
              "      <th>id</th>\n",
              "      <th>tweet</th>\n",
              "      <th>label</th>\n",
              "      <th>model2_fake_x</th>\n",
              "      <th>model2_real_x</th>\n",
              "      <th>model2_fake_y</th>\n",
              "      <th>model2_real_y</th>\n",
              "      <th>username_real</th>\n",
              "      <th>username_fake</th>\n",
              "      <th>domain_real</th>\n",
              "      <th>domain_fake</th>\n",
              "    </tr>\n",
              "  </thead>\n",
              "  <tbody>\n",
              "    <tr>\n",
              "      <th>0</th>\n",
              "      <td>1</td>\n",
              "      <td>chinese converting islam realising muslim affe...</td>\n",
              "      <td>fake</td>\n",
              "      <td>0.884682</td>\n",
              "      <td>0.115318</td>\n",
              "      <td>0.894356</td>\n",
              "      <td>0.105644</td>\n",
              "      <td>0.0</td>\n",
              "      <td>0.0</td>\n",
              "      <td>0.0</td>\n",
              "      <td>0.0</td>\n",
              "    </tr>\n",
              "    <tr>\n",
              "      <th>1</th>\n",
              "      <td>2</td>\n",
              "      <td>11 13 people diamond princess cruise ship inti...</td>\n",
              "      <td>fake</td>\n",
              "      <td>0.252836</td>\n",
              "      <td>0.747164</td>\n",
              "      <td>0.000000</td>\n",
              "      <td>1.000000</td>\n",
              "      <td>0.0</td>\n",
              "      <td>0.0</td>\n",
              "      <td>0.0</td>\n",
              "      <td>0.0</td>\n",
              "    </tr>\n",
              "    <tr>\n",
              "      <th>2</th>\n",
              "      <td>3</td>\n",
              "      <td>covid19 caused bacterium virus treated aspirin</td>\n",
              "      <td>fake</td>\n",
              "      <td>0.843796</td>\n",
              "      <td>0.156204</td>\n",
              "      <td>0.859564</td>\n",
              "      <td>0.140436</td>\n",
              "      <td>0.0</td>\n",
              "      <td>0.0</td>\n",
              "      <td>0.0</td>\n",
              "      <td>0.0</td>\n",
              "    </tr>\n",
              "    <tr>\n",
              "      <th>3</th>\n",
              "      <td>4</td>\n",
              "      <td>mike pence rnc speech praises donald trump’s c...</td>\n",
              "      <td>fake</td>\n",
              "      <td>0.847894</td>\n",
              "      <td>0.152106</td>\n",
              "      <td>1.000000</td>\n",
              "      <td>0.000000</td>\n",
              "      <td>0.0</td>\n",
              "      <td>0.0</td>\n",
              "      <td>0.0</td>\n",
              "      <td>1.0</td>\n",
              "    </tr>\n",
              "    <tr>\n",
              "      <th>4</th>\n",
              "      <td>5</td>\n",
              "      <td>610 skys edconwaysky explains latest covid19 d...</td>\n",
              "      <td>real</td>\n",
              "      <td>0.425930</td>\n",
              "      <td>0.574070</td>\n",
              "      <td>0.375000</td>\n",
              "      <td>0.625000</td>\n",
              "      <td>0.0</td>\n",
              "      <td>0.0</td>\n",
              "      <td>1.0</td>\n",
              "      <td>0.0</td>\n",
              "    </tr>\n",
              "  </tbody>\n",
              "</table>\n",
              "</div>"
            ],
            "text/plain": [
              "   id  ... domain_fake\n",
              "0   1  ...         0.0\n",
              "1   2  ...         0.0\n",
              "2   3  ...         0.0\n",
              "3   4  ...         1.0\n",
              "4   5  ...         0.0\n",
              "\n",
              "[5 rows x 11 columns]"
            ]
          },
          "metadata": {
            "tags": []
          },
          "execution_count": 4
        }
      ]
    },
    {
      "cell_type": "code",
      "metadata": {
        "id": "89FhYHUmTVHw"
      },
      "source": [
        "train_feature_df.drop(['class0_pred', 'class1_pred'], axis=1)\n",
        "def soft_voting(row, class_no):\n",
        "  # class0_val = (row['model1_Class0'] + row['model2_Class0'] + row['model3_Class0'] + row['model4_Class0'] + row['model5_Class0'] + row['model6_Class0'])/6\n",
        "  # class1_val = (row['model1_Class1'] + row['model2_Class1'] + row['model3_Class1'] + row['model4_Class1'] + row['model5_Class1'] + row['model6_Class1'])/6\n",
        "  class0_val = (row['model2_fake_x'] + row['model2_fake_y']/2)\n",
        "  class1_val = (row['model2_real_x'] + row['model2_real_y']/2)\n",
        "  if class_no==0:\n",
        "    return class0_val\n",
        "  else:\n",
        "    return class1_val\n",
        "\n",
        "#train_feature_df['classfake_pred'] = train_feature_df.apply(lambda x: soft_voting(x, 0), 1)\n",
        "#train_feature_df['classtrue_pred'] = train_feature_df.apply(lambda x: soft_voting(x, 1), 1)\n",
        "\n",
        "#val_feature_df['class0_pred'] = val_feature_df.apply(lambda x: soft_voting(x, 0), 1)\n",
        "#val_feature_df['class1_pred'] = val_feature_df.apply(lambda x: soft_voting(x, 1), 1)\n",
        "\n",
        "test_feature_df['classfake_pred'] = test_feature_df.apply(lambda x: soft_voting(x, 0), 1)\n",
        "test_feature_df['classtrue_pred'] = test_feature_df.apply(lambda x: soft_voting(x, 1), 1)\n"
      ],
      "execution_count": null,
      "outputs": []
    },
    {
      "cell_type": "code",
      "metadata": {
        "id": "5Tld5snVBUSQ"
      },
      "source": [
        "train=train_feature_df.drop(['class0_pred', 'class1_pred'], axis=1)"
      ],
      "execution_count": null,
      "outputs": []
    },
    {
      "cell_type": "code",
      "metadata": {
        "id": "_gs9jJaxCft0"
      },
      "source": [
        "test=test_feature_df.head()"
      ],
      "execution_count": null,
      "outputs": []
    },
    {
      "cell_type": "code",
      "metadata": {
        "id": "I-FKo2iyCm0k"
      },
      "source": [
        ""
      ],
      "execution_count": null,
      "outputs": []
    },
    {
      "cell_type": "code",
      "metadata": {
        "colab": {
          "base_uri": "https://localhost:8080/",
          "height": 450
        },
        "id": "O-q79cEuq_wC",
        "outputId": "7ca9cecf-5c8e-438d-a98b-24832167fec6"
      },
      "source": [
        "train.head()"
      ],
      "execution_count": null,
      "outputs": [
        {
          "output_type": "execute_result",
          "data": {
            "text/html": [
              "<div>\n",
              "<style scoped>\n",
              "    .dataframe tbody tr th:only-of-type {\n",
              "        vertical-align: middle;\n",
              "    }\n",
              "\n",
              "    .dataframe tbody tr th {\n",
              "        vertical-align: top;\n",
              "    }\n",
              "\n",
              "    .dataframe thead th {\n",
              "        text-align: right;\n",
              "    }\n",
              "</style>\n",
              "<table border=\"1\" class=\"dataframe\">\n",
              "  <thead>\n",
              "    <tr style=\"text-align: right;\">\n",
              "      <th></th>\n",
              "      <th>id</th>\n",
              "      <th>tweet</th>\n",
              "      <th>label</th>\n",
              "      <th>model1_fake</th>\n",
              "      <th>model1_real</th>\n",
              "      <th>model2_fake</th>\n",
              "      <th>model2_real</th>\n",
              "      <th>username_real</th>\n",
              "      <th>username_fake</th>\n",
              "      <th>domain_real</th>\n",
              "      <th>domain_fake</th>\n",
              "      <th>classfake_pred</th>\n",
              "      <th>classtrue_pred</th>\n",
              "    </tr>\n",
              "  </thead>\n",
              "  <tbody>\n",
              "    <tr>\n",
              "      <th>0</th>\n",
              "      <td>1</td>\n",
              "      <td>cdc currently reports 99031 deaths general dis...</td>\n",
              "      <td>real</td>\n",
              "      <td>0.286892</td>\n",
              "      <td>0.713108</td>\n",
              "      <td>0.604537</td>\n",
              "      <td>0.395463</td>\n",
              "      <td>0.0</td>\n",
              "      <td>0.0</td>\n",
              "      <td>0.838903</td>\n",
              "      <td>0.161097</td>\n",
              "      <td>0.589161</td>\n",
              "      <td>0.910839</td>\n",
              "    </tr>\n",
              "    <tr>\n",
              "      <th>1</th>\n",
              "      <td>2</td>\n",
              "      <td>states reported 1121 deaths small rise last tu...</td>\n",
              "      <td>real</td>\n",
              "      <td>0.093044</td>\n",
              "      <td>0.906956</td>\n",
              "      <td>0.000000</td>\n",
              "      <td>1.000000</td>\n",
              "      <td>0.0</td>\n",
              "      <td>0.0</td>\n",
              "      <td>0.000000</td>\n",
              "      <td>0.000000</td>\n",
              "      <td>0.093044</td>\n",
              "      <td>1.406956</td>\n",
              "    </tr>\n",
              "    <tr>\n",
              "      <th>2</th>\n",
              "      <td>3</td>\n",
              "      <td>politically correct woman almost uses pandemic...</td>\n",
              "      <td>fake</td>\n",
              "      <td>0.857609</td>\n",
              "      <td>0.142391</td>\n",
              "      <td>0.894356</td>\n",
              "      <td>0.105644</td>\n",
              "      <td>0.0</td>\n",
              "      <td>0.0</td>\n",
              "      <td>0.000000</td>\n",
              "      <td>1.000000</td>\n",
              "      <td>1.304787</td>\n",
              "      <td>0.195213</td>\n",
              "    </tr>\n",
              "    <tr>\n",
              "      <th>3</th>\n",
              "      <td>4</td>\n",
              "      <td>indiafightscorona 1524 covid testing laborator...</td>\n",
              "      <td>real</td>\n",
              "      <td>0.098641</td>\n",
              "      <td>0.901359</td>\n",
              "      <td>0.000000</td>\n",
              "      <td>1.000000</td>\n",
              "      <td>0.0</td>\n",
              "      <td>0.0</td>\n",
              "      <td>0.838903</td>\n",
              "      <td>0.161097</td>\n",
              "      <td>0.098641</td>\n",
              "      <td>1.401359</td>\n",
              "    </tr>\n",
              "    <tr>\n",
              "      <th>4</th>\n",
              "      <td>5</td>\n",
              "      <td>populous states generate large case counts loo...</td>\n",
              "      <td>real</td>\n",
              "      <td>0.116537</td>\n",
              "      <td>0.883463</td>\n",
              "      <td>0.000000</td>\n",
              "      <td>1.000000</td>\n",
              "      <td>1.0</td>\n",
              "      <td>0.0</td>\n",
              "      <td>0.838903</td>\n",
              "      <td>0.161097</td>\n",
              "      <td>0.116537</td>\n",
              "      <td>1.383463</td>\n",
              "    </tr>\n",
              "  </tbody>\n",
              "</table>\n",
              "</div>"
            ],
            "text/plain": [
              "   id  ... classtrue_pred\n",
              "0   1  ...       0.910839\n",
              "1   2  ...       1.406956\n",
              "2   3  ...       0.195213\n",
              "3   4  ...       1.401359\n",
              "4   5  ...       1.383463\n",
              "\n",
              "[5 rows x 13 columns]"
            ]
          },
          "metadata": {
            "tags": []
          },
          "execution_count": 17
        }
      ]
    },
    {
      "cell_type": "code",
      "metadata": {
        "colab": {
          "base_uri": "https://localhost:8080/",
          "height": 204
        },
        "id": "FpxlN0LZ21Fq",
        "outputId": "bbf12f3c-bc9d-42c2-e150-7d0f0f22d48c"
      },
      "source": [
        "# = pd.read_csv('/content/drive/MyDrive/Constraint/data/english_test_with_labels.csv')\n",
        "#test_label_df.head()\n"
      ],
      "execution_count": null,
      "outputs": [
        {
          "output_type": "execute_result",
          "data": {
            "text/html": [
              "<div>\n",
              "<style scoped>\n",
              "    .dataframe tbody tr th:only-of-type {\n",
              "        vertical-align: middle;\n",
              "    }\n",
              "\n",
              "    .dataframe tbody tr th {\n",
              "        vertical-align: top;\n",
              "    }\n",
              "\n",
              "    .dataframe thead th {\n",
              "        text-align: right;\n",
              "    }\n",
              "</style>\n",
              "<table border=\"1\" class=\"dataframe\">\n",
              "  <thead>\n",
              "    <tr style=\"text-align: right;\">\n",
              "      <th></th>\n",
              "      <th>id</th>\n",
              "      <th>tweet</th>\n",
              "      <th>label</th>\n",
              "    </tr>\n",
              "  </thead>\n",
              "  <tbody>\n",
              "    <tr>\n",
              "      <th>0</th>\n",
              "      <td>1</td>\n",
              "      <td>Our daily update is published. States reported...</td>\n",
              "      <td>real</td>\n",
              "    </tr>\n",
              "    <tr>\n",
              "      <th>1</th>\n",
              "      <td>2</td>\n",
              "      <td>Alfalfa is the only cure for COVID-19.</td>\n",
              "      <td>fake</td>\n",
              "    </tr>\n",
              "    <tr>\n",
              "      <th>2</th>\n",
              "      <td>3</td>\n",
              "      <td>President Trump Asked What He Would Do If He W...</td>\n",
              "      <td>fake</td>\n",
              "    </tr>\n",
              "    <tr>\n",
              "      <th>3</th>\n",
              "      <td>4</td>\n",
              "      <td>States reported 630 deaths. We are still seein...</td>\n",
              "      <td>real</td>\n",
              "    </tr>\n",
              "    <tr>\n",
              "      <th>4</th>\n",
              "      <td>5</td>\n",
              "      <td>This is the sixth time a global health emergen...</td>\n",
              "      <td>real</td>\n",
              "    </tr>\n",
              "  </tbody>\n",
              "</table>\n",
              "</div>"
            ],
            "text/plain": [
              "   id                                              tweet label\n",
              "0   1  Our daily update is published. States reported...  real\n",
              "1   2             Alfalfa is the only cure for COVID-19.  fake\n",
              "2   3  President Trump Asked What He Would Do If He W...  fake\n",
              "3   4  States reported 630 deaths. We are still seein...  real\n",
              "4   5  This is the sixth time a global health emergen...  real"
            ]
          },
          "metadata": {
            "tags": []
          },
          "execution_count": 8
        }
      ]
    },
    {
      "cell_type": "code",
      "metadata": {
        "colab": {
          "base_uri": "https://localhost:8080/",
          "height": 615
        },
        "id": "Qsz8OstPlx1K",
        "outputId": "ea731ea2-563b-4d79-8cc7-8a1a0b83b979"
      },
      "source": [
        "#temp = test_feature_df.merge(test_label_df[[\"id\", \"label\"]], on=[\"id\", \"label\"], how='left')\n",
        "#temp.head()"
      ],
      "execution_count": null,
      "outputs": [
        {
          "output_type": "execute_result",
          "data": {
            "text/html": [
              "<div>\n",
              "<style scoped>\n",
              "    .dataframe tbody tr th:only-of-type {\n",
              "        vertical-align: middle;\n",
              "    }\n",
              "\n",
              "    .dataframe tbody tr th {\n",
              "        vertical-align: top;\n",
              "    }\n",
              "\n",
              "    .dataframe thead th {\n",
              "        text-align: right;\n",
              "    }\n",
              "</style>\n",
              "<table border=\"1\" class=\"dataframe\">\n",
              "  <thead>\n",
              "    <tr style=\"text-align: right;\">\n",
              "      <th></th>\n",
              "      <th>id</th>\n",
              "      <th>tweet</th>\n",
              "      <th>label</th>\n",
              "      <th>model1_Class0</th>\n",
              "      <th>model1_Class1</th>\n",
              "      <th>model2_Class0</th>\n",
              "      <th>model2_Class1</th>\n",
              "      <th>model3_Class0</th>\n",
              "      <th>model3_Class1</th>\n",
              "      <th>model4_Class0</th>\n",
              "      <th>model4_Class1</th>\n",
              "      <th>username_real</th>\n",
              "      <th>username_fake</th>\n",
              "      <th>domain_real</th>\n",
              "      <th>domain_fake</th>\n",
              "      <th>class0_pred</th>\n",
              "      <th>class1_pred</th>\n",
              "    </tr>\n",
              "  </thead>\n",
              "  <tbody>\n",
              "    <tr>\n",
              "      <th>0</th>\n",
              "      <td>1</td>\n",
              "      <td>Our daily update is published. States reported...</td>\n",
              "      <td>real</td>\n",
              "      <td>0.999851</td>\n",
              "      <td>0.000149</td>\n",
              "      <td>0.999063</td>\n",
              "      <td>0.000937</td>\n",
              "      <td>0.999967</td>\n",
              "      <td>0.000033</td>\n",
              "      <td>0.999963</td>\n",
              "      <td>0.000037</td>\n",
              "      <td>0.0</td>\n",
              "      <td>0.0</td>\n",
              "      <td>0.838903</td>\n",
              "      <td>0.161097</td>\n",
              "      <td>0.999711</td>\n",
              "      <td>0.000289</td>\n",
              "    </tr>\n",
              "    <tr>\n",
              "      <th>1</th>\n",
              "      <td>2</td>\n",
              "      <td>Alfalfa is the only cure for COVID-19.</td>\n",
              "      <td>fake</td>\n",
              "      <td>0.000422</td>\n",
              "      <td>0.999578</td>\n",
              "      <td>0.000902</td>\n",
              "      <td>0.999098</td>\n",
              "      <td>0.000045</td>\n",
              "      <td>0.999955</td>\n",
              "      <td>0.000112</td>\n",
              "      <td>0.999888</td>\n",
              "      <td>0.0</td>\n",
              "      <td>0.0</td>\n",
              "      <td>0.000000</td>\n",
              "      <td>0.000000</td>\n",
              "      <td>0.000370</td>\n",
              "      <td>0.999630</td>\n",
              "    </tr>\n",
              "    <tr>\n",
              "      <th>2</th>\n",
              "      <td>3</td>\n",
              "      <td>President Trump Asked What He Would Do If He W...</td>\n",
              "      <td>fake</td>\n",
              "      <td>0.000401</td>\n",
              "      <td>0.999600</td>\n",
              "      <td>0.000954</td>\n",
              "      <td>0.999046</td>\n",
              "      <td>0.000033</td>\n",
              "      <td>0.999967</td>\n",
              "      <td>0.000170</td>\n",
              "      <td>0.999830</td>\n",
              "      <td>0.0</td>\n",
              "      <td>0.0</td>\n",
              "      <td>0.000000</td>\n",
              "      <td>1.000000</td>\n",
              "      <td>0.000389</td>\n",
              "      <td>0.999611</td>\n",
              "    </tr>\n",
              "    <tr>\n",
              "      <th>3</th>\n",
              "      <td>4</td>\n",
              "      <td>States reported 630 deaths. We are still seein...</td>\n",
              "      <td>real</td>\n",
              "      <td>0.999858</td>\n",
              "      <td>0.000142</td>\n",
              "      <td>0.999082</td>\n",
              "      <td>0.000918</td>\n",
              "      <td>0.999967</td>\n",
              "      <td>0.000033</td>\n",
              "      <td>0.999956</td>\n",
              "      <td>0.000044</td>\n",
              "      <td>0.0</td>\n",
              "      <td>0.0</td>\n",
              "      <td>0.838903</td>\n",
              "      <td>0.161097</td>\n",
              "      <td>0.999715</td>\n",
              "      <td>0.000285</td>\n",
              "    </tr>\n",
              "    <tr>\n",
              "      <th>4</th>\n",
              "      <td>5</td>\n",
              "      <td>This is the sixth time a global health emergen...</td>\n",
              "      <td>real</td>\n",
              "      <td>0.999852</td>\n",
              "      <td>0.000148</td>\n",
              "      <td>0.999076</td>\n",
              "      <td>0.000924</td>\n",
              "      <td>0.999953</td>\n",
              "      <td>0.000047</td>\n",
              "      <td>0.999912</td>\n",
              "      <td>0.000088</td>\n",
              "      <td>1.0</td>\n",
              "      <td>0.0</td>\n",
              "      <td>0.838903</td>\n",
              "      <td>0.161097</td>\n",
              "      <td>0.999698</td>\n",
              "      <td>0.000302</td>\n",
              "    </tr>\n",
              "  </tbody>\n",
              "</table>\n",
              "</div>"
            ],
            "text/plain": [
              "   id  ... class1_pred\n",
              "0   1  ...    0.000289\n",
              "1   2  ...    0.999630\n",
              "2   3  ...    0.999611\n",
              "3   4  ...    0.000285\n",
              "4   5  ...    0.000302\n",
              "\n",
              "[5 rows x 17 columns]"
            ]
          },
          "metadata": {
            "tags": []
          },
          "execution_count": 9
        }
      ]
    },
    {
      "cell_type": "code",
      "metadata": {
        "id": "XKN07-MrW8cb"
      },
      "source": [
        "def map_label(row):\n",
        "  return 0 if row[\"label\"]==\"real\" else 1\n",
        "\n",
        "train_feature_df[\"label\"] = train_feature_df.apply(lambda x: map_label(x), 1)\n",
        "val_feature_df[\"label\"] = val_feature_df.apply(lambda x: map_label(x), 1)\n",
        "temp[\"label\"] = temp.apply(lambda x: map_label(x), 1)\n"
      ],
      "execution_count": null,
      "outputs": []
    },
    {
      "cell_type": "code",
      "metadata": {
        "colab": {
          "base_uri": "https://localhost:8080/",
          "height": 204
        },
        "id": "FOJ8l7vpTVJv",
        "outputId": "77066de3-9acc-4b1a-b1ce-fdc65fd774be"
      },
      "source": [
        "train_feature_df = train_feature_df[[\"class0_pred\", \"class1_pred\", \"username_real\", \"username_fake\", \"domain_real\", \"domain_fake\", \"label\"]]\n",
        "train_feature_df.head()\n"
      ],
      "execution_count": null,
      "outputs": [
        {
          "output_type": "execute_result",
          "data": {
            "text/html": [
              "<div>\n",
              "<style scoped>\n",
              "    .dataframe tbody tr th:only-of-type {\n",
              "        vertical-align: middle;\n",
              "    }\n",
              "\n",
              "    .dataframe tbody tr th {\n",
              "        vertical-align: top;\n",
              "    }\n",
              "\n",
              "    .dataframe thead th {\n",
              "        text-align: right;\n",
              "    }\n",
              "</style>\n",
              "<table border=\"1\" class=\"dataframe\">\n",
              "  <thead>\n",
              "    <tr style=\"text-align: right;\">\n",
              "      <th></th>\n",
              "      <th>class0_pred</th>\n",
              "      <th>class1_pred</th>\n",
              "      <th>username_real</th>\n",
              "      <th>username_fake</th>\n",
              "      <th>domain_real</th>\n",
              "      <th>domain_fake</th>\n",
              "      <th>label</th>\n",
              "    </tr>\n",
              "  </thead>\n",
              "  <tbody>\n",
              "    <tr>\n",
              "      <th>0</th>\n",
              "      <td>0.999545</td>\n",
              "      <td>0.000455</td>\n",
              "      <td>0.000000</td>\n",
              "      <td>0.000000</td>\n",
              "      <td>0.000000</td>\n",
              "      <td>0.000000</td>\n",
              "      <td>0</td>\n",
              "    </tr>\n",
              "    <tr>\n",
              "      <th>1</th>\n",
              "      <td>0.999419</td>\n",
              "      <td>0.000581</td>\n",
              "      <td>0.000000</td>\n",
              "      <td>0.000000</td>\n",
              "      <td>0.838903</td>\n",
              "      <td>0.161097</td>\n",
              "      <td>0</td>\n",
              "    </tr>\n",
              "    <tr>\n",
              "      <th>2</th>\n",
              "      <td>0.000421</td>\n",
              "      <td>0.999579</td>\n",
              "      <td>0.000000</td>\n",
              "      <td>0.000000</td>\n",
              "      <td>0.000000</td>\n",
              "      <td>1.000000</td>\n",
              "      <td>1</td>\n",
              "    </tr>\n",
              "    <tr>\n",
              "      <th>3</th>\n",
              "      <td>0.999698</td>\n",
              "      <td>0.000302</td>\n",
              "      <td>0.995146</td>\n",
              "      <td>0.004854</td>\n",
              "      <td>0.838903</td>\n",
              "      <td>0.161097</td>\n",
              "      <td>0</td>\n",
              "    </tr>\n",
              "    <tr>\n",
              "      <th>4</th>\n",
              "      <td>0.999704</td>\n",
              "      <td>0.000296</td>\n",
              "      <td>0.000000</td>\n",
              "      <td>0.000000</td>\n",
              "      <td>0.838903</td>\n",
              "      <td>0.161097</td>\n",
              "      <td>0</td>\n",
              "    </tr>\n",
              "  </tbody>\n",
              "</table>\n",
              "</div>"
            ],
            "text/plain": [
              "   class0_pred  class1_pred  username_real  ...  domain_real  domain_fake  label\n",
              "0     0.999545     0.000455       0.000000  ...     0.000000     0.000000      0\n",
              "1     0.999419     0.000581       0.000000  ...     0.838903     0.161097      0\n",
              "2     0.000421     0.999579       0.000000  ...     0.000000     1.000000      1\n",
              "3     0.999698     0.000302       0.995146  ...     0.838903     0.161097      0\n",
              "4     0.999704     0.000296       0.000000  ...     0.838903     0.161097      0\n",
              "\n",
              "[5 rows x 7 columns]"
            ]
          },
          "metadata": {
            "tags": []
          },
          "execution_count": 11
        }
      ]
    },
    {
      "cell_type": "code",
      "metadata": {
        "colab": {
          "base_uri": "https://localhost:8080/",
          "height": 204
        },
        "id": "VCWlV92MYADe",
        "outputId": "049eed2b-32fa-458f-e765-c709c4d3b719"
      },
      "source": [
        "val_feature_df = val_feature_df[[\"class0_pred\", \"class1_pred\", \"username_real\", \"username_fake\", \"domain_real\", \"domain_fake\", \"label\"]]\n",
        "val_feature_df.head()"
      ],
      "execution_count": null,
      "outputs": [
        {
          "output_type": "execute_result",
          "data": {
            "text/html": [
              "<div>\n",
              "<style scoped>\n",
              "    .dataframe tbody tr th:only-of-type {\n",
              "        vertical-align: middle;\n",
              "    }\n",
              "\n",
              "    .dataframe tbody tr th {\n",
              "        vertical-align: top;\n",
              "    }\n",
              "\n",
              "    .dataframe thead th {\n",
              "        text-align: right;\n",
              "    }\n",
              "</style>\n",
              "<table border=\"1\" class=\"dataframe\">\n",
              "  <thead>\n",
              "    <tr style=\"text-align: right;\">\n",
              "      <th></th>\n",
              "      <th>class0_pred</th>\n",
              "      <th>class1_pred</th>\n",
              "      <th>username_real</th>\n",
              "      <th>username_fake</th>\n",
              "      <th>domain_real</th>\n",
              "      <th>domain_fake</th>\n",
              "      <th>label</th>\n",
              "    </tr>\n",
              "  </thead>\n",
              "  <tbody>\n",
              "    <tr>\n",
              "      <th>0</th>\n",
              "      <td>0.007835</td>\n",
              "      <td>0.992165</td>\n",
              "      <td>0.0</td>\n",
              "      <td>0.0</td>\n",
              "      <td>0.0</td>\n",
              "      <td>0.0</td>\n",
              "      <td>1</td>\n",
              "    </tr>\n",
              "    <tr>\n",
              "      <th>1</th>\n",
              "      <td>0.251324</td>\n",
              "      <td>0.748676</td>\n",
              "      <td>0.0</td>\n",
              "      <td>0.0</td>\n",
              "      <td>0.0</td>\n",
              "      <td>0.0</td>\n",
              "      <td>1</td>\n",
              "    </tr>\n",
              "    <tr>\n",
              "      <th>2</th>\n",
              "      <td>0.000370</td>\n",
              "      <td>0.999630</td>\n",
              "      <td>0.0</td>\n",
              "      <td>0.0</td>\n",
              "      <td>0.0</td>\n",
              "      <td>0.0</td>\n",
              "      <td>1</td>\n",
              "    </tr>\n",
              "    <tr>\n",
              "      <th>3</th>\n",
              "      <td>0.000682</td>\n",
              "      <td>0.999318</td>\n",
              "      <td>0.0</td>\n",
              "      <td>0.0</td>\n",
              "      <td>0.0</td>\n",
              "      <td>1.0</td>\n",
              "      <td>1</td>\n",
              "    </tr>\n",
              "    <tr>\n",
              "      <th>4</th>\n",
              "      <td>0.999659</td>\n",
              "      <td>0.000341</td>\n",
              "      <td>0.0</td>\n",
              "      <td>0.0</td>\n",
              "      <td>1.0</td>\n",
              "      <td>0.0</td>\n",
              "      <td>0</td>\n",
              "    </tr>\n",
              "  </tbody>\n",
              "</table>\n",
              "</div>"
            ],
            "text/plain": [
              "   class0_pred  class1_pred  username_real  ...  domain_real  domain_fake  label\n",
              "0     0.007835     0.992165            0.0  ...          0.0          0.0      1\n",
              "1     0.251324     0.748676            0.0  ...          0.0          0.0      1\n",
              "2     0.000370     0.999630            0.0  ...          0.0          0.0      1\n",
              "3     0.000682     0.999318            0.0  ...          0.0          1.0      1\n",
              "4     0.999659     0.000341            0.0  ...          1.0          0.0      0\n",
              "\n",
              "[5 rows x 7 columns]"
            ]
          },
          "metadata": {
            "tags": []
          },
          "execution_count": 12
        }
      ]
    },
    {
      "cell_type": "code",
      "metadata": {
        "colab": {
          "base_uri": "https://localhost:8080/",
          "height": 204
        },
        "id": "qAZ5iqlg1hO3",
        "outputId": "5bd372cc-58e7-4d78-f05b-993c0eef46e3"
      },
      "source": [
        "temp = temp[[\"class0_pred\", \"class1_pred\", \"username_real\", \"username_fake\", \"domain_real\", \"domain_fake\", \"label\"]]\n",
        "temp.head()"
      ],
      "execution_count": null,
      "outputs": [
        {
          "output_type": "execute_result",
          "data": {
            "text/html": [
              "<div>\n",
              "<style scoped>\n",
              "    .dataframe tbody tr th:only-of-type {\n",
              "        vertical-align: middle;\n",
              "    }\n",
              "\n",
              "    .dataframe tbody tr th {\n",
              "        vertical-align: top;\n",
              "    }\n",
              "\n",
              "    .dataframe thead th {\n",
              "        text-align: right;\n",
              "    }\n",
              "</style>\n",
              "<table border=\"1\" class=\"dataframe\">\n",
              "  <thead>\n",
              "    <tr style=\"text-align: right;\">\n",
              "      <th></th>\n",
              "      <th>class0_pred</th>\n",
              "      <th>class1_pred</th>\n",
              "      <th>username_real</th>\n",
              "      <th>username_fake</th>\n",
              "      <th>domain_real</th>\n",
              "      <th>domain_fake</th>\n",
              "      <th>label</th>\n",
              "    </tr>\n",
              "  </thead>\n",
              "  <tbody>\n",
              "    <tr>\n",
              "      <th>0</th>\n",
              "      <td>0.999711</td>\n",
              "      <td>0.000289</td>\n",
              "      <td>0.0</td>\n",
              "      <td>0.0</td>\n",
              "      <td>0.838903</td>\n",
              "      <td>0.161097</td>\n",
              "      <td>0</td>\n",
              "    </tr>\n",
              "    <tr>\n",
              "      <th>1</th>\n",
              "      <td>0.000370</td>\n",
              "      <td>0.999630</td>\n",
              "      <td>0.0</td>\n",
              "      <td>0.0</td>\n",
              "      <td>0.000000</td>\n",
              "      <td>0.000000</td>\n",
              "      <td>1</td>\n",
              "    </tr>\n",
              "    <tr>\n",
              "      <th>2</th>\n",
              "      <td>0.000389</td>\n",
              "      <td>0.999611</td>\n",
              "      <td>0.0</td>\n",
              "      <td>0.0</td>\n",
              "      <td>0.000000</td>\n",
              "      <td>1.000000</td>\n",
              "      <td>1</td>\n",
              "    </tr>\n",
              "    <tr>\n",
              "      <th>3</th>\n",
              "      <td>0.999715</td>\n",
              "      <td>0.000285</td>\n",
              "      <td>0.0</td>\n",
              "      <td>0.0</td>\n",
              "      <td>0.838903</td>\n",
              "      <td>0.161097</td>\n",
              "      <td>0</td>\n",
              "    </tr>\n",
              "    <tr>\n",
              "      <th>4</th>\n",
              "      <td>0.999698</td>\n",
              "      <td>0.000302</td>\n",
              "      <td>1.0</td>\n",
              "      <td>0.0</td>\n",
              "      <td>0.838903</td>\n",
              "      <td>0.161097</td>\n",
              "      <td>0</td>\n",
              "    </tr>\n",
              "  </tbody>\n",
              "</table>\n",
              "</div>"
            ],
            "text/plain": [
              "   class0_pred  class1_pred  username_real  ...  domain_real  domain_fake  label\n",
              "0     0.999711     0.000289            0.0  ...     0.838903     0.161097      0\n",
              "1     0.000370     0.999630            0.0  ...     0.000000     0.000000      1\n",
              "2     0.000389     0.999611            0.0  ...     0.000000     1.000000      1\n",
              "3     0.999715     0.000285            0.0  ...     0.838903     0.161097      0\n",
              "4     0.999698     0.000302            1.0  ...     0.838903     0.161097      0\n",
              "\n",
              "[5 rows x 7 columns]"
            ]
          },
          "metadata": {
            "tags": []
          },
          "execution_count": 13
        }
      ]
    },
    {
      "cell_type": "code",
      "metadata": {
        "id": "JJV83VwTVY5W"
      },
      "source": [
        "train.to_csv('/content/drive/MyDrive/Colab Notebooks/covid data/data/final_train.csv', index=False)\n",
        "#val_feature_df.to_csv('data/final_val.csv', index=False)\n",
        "test.to_csv('/content/drive/MyDrive/Colab Notebooks/covid data/data/final_test.csv', index=False)\n"
      ],
      "execution_count": null,
      "outputs": []
    },
    {
      "cell_type": "code",
      "metadata": {
        "id": "H4aYzO4gWHTf"
      },
      "source": [
        ""
      ],
      "execution_count": null,
      "outputs": []
    },
    {
      "cell_type": "code",
      "metadata": {
        "id": "ZPsDt7yfWHVq"
      },
      "source": [
        ""
      ],
      "execution_count": null,
      "outputs": []
    },
    {
      "cell_type": "code",
      "metadata": {
        "id": "uG9JBFxbWHX8"
      },
      "source": [
        ""
      ],
      "execution_count": null,
      "outputs": []
    },
    {
      "cell_type": "code",
      "metadata": {
        "id": "bRwECBXfWHbA"
      },
      "source": [
        ""
      ],
      "execution_count": null,
      "outputs": []
    }
  ]
}