{
 "cells": [
  {
   "cell_type": "code",
   "execution_count": 1,
   "metadata": {
    "executionInfo": {
     "elapsed": 1296,
     "status": "ok",
     "timestamp": 1608407638222,
     "user": {
      "displayName": "Ayan Basak",
      "photoUrl": "",
      "userId": "03457614456337947866"
     },
     "user_tz": -330
    },
    "id": "S08kOzbyD76t"
   },
   "outputs": [],
   "source": [
    "import pandas as pd\n",
    "import numpy as np\n",
    "import json\n",
    "import re\n",
    "import requests\n",
    "from urllib.parse import urlparse\n"
   ]
  },
  {
   "cell_type": "code",
   "execution_count": 2,
   "metadata": {
    "colab": {
     "base_uri": "https://localhost:8080/",
     "height": 204
    },
    "executionInfo": {
     "elapsed": 1619,
     "status": "ok",
     "timestamp": 1608407638747,
     "user": {
      "displayName": "Ayan Basak",
      "photoUrl": "",
      "userId": "03457614456337947866"
     },
     "user_tz": -330
    },
    "id": "S905qi40Eskr",
    "outputId": "9dee6e2d-a7f4-4fc8-a324-c7ff6d337bc6"
   },
   "outputs": [
    {
     "data": {
      "text/html": [
       "<div>\n",
       "<style scoped>\n",
       "    .dataframe tbody tr th:only-of-type {\n",
       "        vertical-align: middle;\n",
       "    }\n",
       "\n",
       "    .dataframe tbody tr th {\n",
       "        vertical-align: top;\n",
       "    }\n",
       "\n",
       "    .dataframe thead th {\n",
       "        text-align: right;\n",
       "    }\n",
       "</style>\n",
       "<table border=\"1\" class=\"dataframe\">\n",
       "  <thead>\n",
       "    <tr style=\"text-align: right;\">\n",
       "      <th></th>\n",
       "      <th>id</th>\n",
       "      <th>tweet</th>\n",
       "      <th>label</th>\n",
       "    </tr>\n",
       "  </thead>\n",
       "  <tbody>\n",
       "    <tr>\n",
       "      <th>0</th>\n",
       "      <td>1</td>\n",
       "      <td>Our daily update is published. States reported...</td>\n",
       "      <td>real</td>\n",
       "    </tr>\n",
       "    <tr>\n",
       "      <th>1</th>\n",
       "      <td>2</td>\n",
       "      <td>Alfalfa is the only cure for COVID-19.</td>\n",
       "      <td>fake</td>\n",
       "    </tr>\n",
       "    <tr>\n",
       "      <th>2</th>\n",
       "      <td>3</td>\n",
       "      <td>President Trump Asked What He Would Do If He W...</td>\n",
       "      <td>fake</td>\n",
       "    </tr>\n",
       "    <tr>\n",
       "      <th>3</th>\n",
       "      <td>4</td>\n",
       "      <td>States reported 630 deaths. We are still seein...</td>\n",
       "      <td>real</td>\n",
       "    </tr>\n",
       "    <tr>\n",
       "      <th>4</th>\n",
       "      <td>5</td>\n",
       "      <td>This is the sixth time a global health emergen...</td>\n",
       "      <td>real</td>\n",
       "    </tr>\n",
       "  </tbody>\n",
       "</table>\n",
       "</div>"
      ],
      "text/plain": [
       "   id                                              tweet label\n",
       "0   1  Our daily update is published. States reported...  real\n",
       "1   2             Alfalfa is the only cure for COVID-19.  fake\n",
       "2   3  President Trump Asked What He Would Do If He W...  fake\n",
       "3   4  States reported 630 deaths. We are still seein...  real\n",
       "4   5  This is the sixth time a global health emergen...  real"
      ]
     },
     "execution_count": 2,
     "metadata": {},
     "output_type": "execute_result"
    }
   ],
   "source": [
    "# train_df = pd.read_csv('../data/Constraint_Train.csv')\n",
    "# val_df = pd.read_csv('../data/Constraint_Val.csv')\n",
    "test_df = pd.read_csv('../data/english_test_with_labels.csv')\n",
    "test_df.head()"
   ]
  },
  {
   "cell_type": "code",
   "execution_count": 3,
   "metadata": {
    "colab": {
     "base_uri": "https://localhost:8080/",
     "height": 204
    },
    "executionInfo": {
     "elapsed": 1417,
     "status": "ok",
     "timestamp": 1608407638748,
     "user": {
      "displayName": "Ayan Basak",
      "photoUrl": "",
      "userId": "03457614456337947866"
     },
     "user_tz": -330
    },
    "id": "2_sUO-RdEtFJ",
    "outputId": "79aa1ec1-7686-4b19-d973-7185dff7f204"
   },
   "outputs": [
    {
     "data": {
      "text/html": [
       "<div>\n",
       "<style scoped>\n",
       "    .dataframe tbody tr th:only-of-type {\n",
       "        vertical-align: middle;\n",
       "    }\n",
       "\n",
       "    .dataframe tbody tr th {\n",
       "        vertical-align: top;\n",
       "    }\n",
       "\n",
       "    .dataframe thead th {\n",
       "        text-align: right;\n",
       "    }\n",
       "</style>\n",
       "<table border=\"1\" class=\"dataframe\">\n",
       "  <thead>\n",
       "    <tr style=\"text-align: right;\">\n",
       "      <th></th>\n",
       "      <th>id</th>\n",
       "      <th>model1_fake</th>\n",
       "      <th>model1_real</th>\n",
       "      <th>model2_fake</th>\n",
       "      <th>model2_real</th>\n",
       "    </tr>\n",
       "  </thead>\n",
       "  <tbody>\n",
       "    <tr>\n",
       "      <th>0</th>\n",
       "      <td>1</td>\n",
       "      <td>0.025615</td>\n",
       "      <td>0.974385</td>\n",
       "      <td>0.000000</td>\n",
       "      <td>1.000000</td>\n",
       "    </tr>\n",
       "    <tr>\n",
       "      <th>1</th>\n",
       "      <td>2</td>\n",
       "      <td>0.944206</td>\n",
       "      <td>0.055794</td>\n",
       "      <td>0.859564</td>\n",
       "      <td>0.140436</td>\n",
       "    </tr>\n",
       "    <tr>\n",
       "      <th>2</th>\n",
       "      <td>3</td>\n",
       "      <td>0.997134</td>\n",
       "      <td>0.002866</td>\n",
       "      <td>1.000000</td>\n",
       "      <td>0.000000</td>\n",
       "    </tr>\n",
       "    <tr>\n",
       "      <th>3</th>\n",
       "      <td>4</td>\n",
       "      <td>0.113006</td>\n",
       "      <td>0.886994</td>\n",
       "      <td>0.000000</td>\n",
       "      <td>1.000000</td>\n",
       "    </tr>\n",
       "    <tr>\n",
       "      <th>4</th>\n",
       "      <td>5</td>\n",
       "      <td>0.346905</td>\n",
       "      <td>0.653095</td>\n",
       "      <td>0.604537</td>\n",
       "      <td>0.395463</td>\n",
       "    </tr>\n",
       "  </tbody>\n",
       "</table>\n",
       "</div>"
      ],
      "text/plain": [
       "   id  model1_fake  model1_real  model2_fake  model2_real\n",
       "0   1     0.025615     0.974385     0.000000     1.000000\n",
       "1   2     0.944206     0.055794     0.859564     0.140436\n",
       "2   3     0.997134     0.002866     1.000000     0.000000\n",
       "3   4     0.113006     0.886994     0.000000     1.000000\n",
       "4   5     0.346905     0.653095     0.604537     0.395463"
      ]
     },
     "execution_count": 3,
     "metadata": {},
     "output_type": "execute_result"
    }
   ],
   "source": [
    "# train_feature_df = pd.read_csv('../Boosting/Boosting Data/Train_v3.csv')\n",
    "# val_feature_df = pd.read_csv('../Boosting/Boosting Data/Validation_v3.csv')\n",
    "# test_feature_df = pd.read_csv('../Boosting/Boosting Data/Test_v3.csv')\n",
    "test_feature_df = pd.read_csv('../Boosting/Boosting Data/test.csv')\n",
    "test_feature_df.head()"
   ]
  },
  {
   "cell_type": "code",
   "execution_count": 4,
   "metadata": {
    "executionInfo": {
     "elapsed": 1166,
     "status": "ok",
     "timestamp": 1608407638748,
     "user": {
      "displayName": "Ayan Basak",
      "photoUrl": "",
      "userId": "03457614456337947866"
     },
     "user_tz": -330
    },
    "id": "edZoggLYEtH0"
   },
   "outputs": [],
   "source": [
    "def get_df(df, feature_df, mode=''):\n",
    "  if mode in ['train', 'val']:\n",
    "    df = df.merge(feature_df, on=['id'], how='left').drop('Label', 1)\n",
    "  else:\n",
    "    df = df.merge(feature_df, on=['id'], how='left')\n",
    "  df = df.iloc[:, :-2]\n",
    "  return df"
   ]
  },
  {
   "cell_type": "code",
   "execution_count": 5,
   "metadata": {
    "executionInfo": {
     "elapsed": 1186,
     "status": "ok",
     "timestamp": 1608407642344,
     "user": {
      "displayName": "Ayan Basak",
      "photoUrl": "",
      "userId": "03457614456337947866"
     },
     "user_tz": -330
    },
    "id": "MrVYmBabMVc_"
   },
   "outputs": [],
   "source": [
    "# train_df = get_df(train_df, train_feature_df, 'train')\n",
    "# val_df = get_df(val_df, val_feature_df, 'val')\n",
    "test_df = get_df(test_df, test_feature_df, 'test')\n"
   ]
  },
  {
   "cell_type": "code",
   "execution_count": 6,
   "metadata": {
    "executionInfo": {
     "elapsed": 1208,
     "status": "ok",
     "timestamp": 1608407656315,
     "user": {
      "displayName": "Ayan Basak",
      "photoUrl": "",
      "userId": "03457614456337947866"
     },
     "user_tz": -330
    },
    "id": "CfDa67diEtKv"
   },
   "outputs": [],
   "source": [
    "username_dic = json.load(open(\"Statistical meta/train_prob_vectors.json\"))\n",
    "domain_dic = json.load(open(\"Statistical meta/train_prob_vectors_domain.json\"))"
   ]
  },
  {
   "cell_type": "code",
   "execution_count": 7,
   "metadata": {
    "colab": {
     "base_uri": "https://localhost:8080/"
    },
    "executionInfo": {
     "elapsed": 1227,
     "status": "ok",
     "timestamp": 1608407659965,
     "user": {
      "displayName": "Ayan Basak",
      "photoUrl": "",
      "userId": "03457614456337947866"
     },
     "user_tz": -330
    },
    "id": "hbhZRxFOJamW",
    "outputId": "57973c1f-7bd4-4325-8b9d-de57c78a311b"
   },
   "outputs": [
    {
     "data": {
      "text/plain": [
       "('MoHFW_INDIA',\n",
       " {'fake_probability': 0.037037037037037035,\n",
       "  'real_probability': 0.9629629629629629,\n",
       "  'total_mentions': 162})"
      ]
     },
     "execution_count": 7,
     "metadata": {},
     "output_type": "execute_result"
    }
   ],
   "source": [
    "list(username_dic.items())[0]"
   ]
  },
  {
   "cell_type": "code",
   "execution_count": 8,
   "metadata": {
    "executionInfo": {
     "elapsed": 1089,
     "status": "ok",
     "timestamp": 1608407673164,
     "user": {
      "displayName": "Ayan Basak",
      "photoUrl": "",
      "userId": "03457614456337947866"
     },
     "user_tz": -330
    },
    "id": "ZM-v6biwGJQg"
   },
   "outputs": [],
   "source": [
    "def username_feature(row, index):\n",
    "  tweet = row[\"tweet\"]\n",
    "  lis = re.findall(\"@([a-z0-9_]+)\", tweet, re.I)\n",
    "  val=0\n",
    "  if len(lis)>0:\n",
    "    for item in lis:\n",
    "      try:\n",
    "        val+=username_dic[item][index]\n",
    "      except KeyError:\n",
    "        val+=0\n",
    "    val/=len(lis)\n",
    "  \n",
    "  return val\n",
    "\n",
    "\n",
    "def domain_feature(row, domain_dic, index):\n",
    "  tweet=row[\"tweet\"]\n",
    "  try:\n",
    "    shorturl = re.search(\"(?P<url>https?://[^\\s]+)\", tweet).group(\"url\")\n",
    "    r = requests.get(shorturl, timeout=180)\n",
    "    expanded_url = r.url \n",
    "    # temp_domain = expanded_url.split('/')[2]\n",
    "    domain = urlparse(expanded_url).netloc\n",
    "    return domain_dic[domain][index]\n",
    "  except Exception as e:\n",
    "    domain=''\n",
    "    return 0.0\n",
    "\n"
   ]
  },
  {
   "cell_type": "code",
   "execution_count": 9,
   "metadata": {
    "executionInfo": {
     "elapsed": 774,
     "status": "ok",
     "timestamp": 1608407675499,
     "user": {
      "displayName": "Ayan Basak",
      "photoUrl": "",
      "userId": "03457614456337947866"
     },
     "user_tz": -330
    },
    "id": "jNyxxfp_GJTC"
   },
   "outputs": [],
   "source": [
    "# train_df[\"username_real\"] = train_df.apply(lambda x: username_feature(x, \"real_probability\"), 1)\n",
    "# train_df[\"username_fake\"] = train_df.apply(lambda x: username_feature(x, \"fake_probability\"), 1)\n",
    "\n",
    "# train_df[\"domain_real\"] = train_df.apply(lambda x: domain_feature(x, domain_dic, \"real_probability\"), 1)\n",
    "# train_df[\"domain_fake\"] = train_df.apply(lambda x: domain_feature(x, domain_dic, \"fake_probability\"), 1)\n"
   ]
  },
  {
   "cell_type": "code",
   "execution_count": 10,
   "metadata": {
    "executionInfo": {
     "elapsed": 1065,
     "status": "ok",
     "timestamp": 1608407676025,
     "user": {
      "displayName": "Ayan Basak",
      "photoUrl": "",
      "userId": "03457614456337947866"
     },
     "user_tz": -330
    },
    "id": "agd1-VpcMrj8"
   },
   "outputs": [],
   "source": [
    "# val_df[\"username_real\"] = val_df.apply(lambda x: username_feature(x, \"real_probability\"), 1)\n",
    "# val_df[\"username_fake\"] = val_df.apply(lambda x: username_feature(x, \"fake_probability\"), 1)\n",
    "\n",
    "# val_df[\"domain_real\"] = val_df.apply(lambda x: domain_feature(x, domain_dic, \"real_probability\"), 1)\n",
    "# val_df[\"domain_fake\"] = val_df.apply(lambda x: domain_feature(x, domain_dic, \"fake_probability\"), 1)\n"
   ]
  },
  {
   "cell_type": "code",
   "execution_count": null,
   "metadata": {
    "executionInfo": {
     "elapsed": 2480849,
     "status": "ok",
     "timestamp": 1608410156392,
     "user": {
      "displayName": "Ayan Basak",
      "photoUrl": "",
      "userId": "03457614456337947866"
     },
     "user_tz": -330
    },
    "id": "1rl7KnHebKxp"
   },
   "outputs": [],
   "source": [
    "test_df[\"username_real\"] = test_df.apply(lambda x: username_feature(x, \"real_probability\"), 1)\n",
    "test_df[\"username_fake\"] = test_df.apply(lambda x: username_feature(x, \"fake_probability\"), 1)\n",
    "\n",
    "test_df[\"domain_real\"] = test_df.apply(lambda x: domain_feature(x, domain_dic, \"real_probability\"), 1)\n",
    "test_df[\"domain_fake\"] = test_df.apply(lambda x: domain_feature(x, domain_dic, \"fake_probability\"), 1)\n"
   ]
  },
  {
   "cell_type": "code",
   "execution_count": null,
   "metadata": {
    "executionInfo": {
     "elapsed": 2471887,
     "status": "ok",
     "timestamp": 1608410156394,
     "user": {
      "displayName": "Ayan Basak",
      "photoUrl": "",
      "userId": "03457614456337947866"
     },
     "user_tz": -330
    },
    "id": "0ofde8jVuH1o"
   },
   "outputs": [],
   "source": [
    "# domain_dic"
   ]
  },
  {
   "cell_type": "code",
   "execution_count": null,
   "metadata": {
    "colab": {
     "base_uri": "https://localhost:8080/",
     "height": 779
    },
    "executionInfo": {
     "elapsed": 2471569,
     "status": "ok",
     "timestamp": 1608410156395,
     "user": {
      "displayName": "Ayan Basak",
      "photoUrl": "",
      "userId": "03457614456337947866"
     },
     "user_tz": -330
    },
    "id": "N-Gmr08nGJV-",
    "outputId": "bb2d34de-3e5f-47d4-ed48-6090477e3ea0"
   },
   "outputs": [],
   "source": [
    "# pd.options.display.max_rows=None\n",
    "test_df[test_df[\"domain_fake\"]!=0.0]"
   ]
  },
  {
   "cell_type": "code",
   "execution_count": null,
   "metadata": {
    "executionInfo": {
     "elapsed": 2402931,
     "status": "ok",
     "timestamp": 1608410157115,
     "user": {
      "displayName": "Ayan Basak",
      "photoUrl": "",
      "userId": "03457614456337947866"
     },
     "user_tz": -330
    },
    "id": "UY3Dv0lngCjw"
   },
   "outputs": [],
   "source": [
    "test_df.to_csv('Post Processing/data/test_with_postproc_features.csv', index=False)"
   ]
  },
  {
   "cell_type": "code",
   "execution_count": null,
   "metadata": {
    "id": "XiNaGAR2bZEn"
   },
   "outputs": [],
   "source": []
  },
  {
   "cell_type": "code",
   "execution_count": null,
   "metadata": {
    "id": "8WWt3LcDNGgA"
   },
   "outputs": [],
   "source": []
  }
 ],
 "metadata": {
  "colab": {
   "authorship_tag": "ABX9TyMrWzpUXmKVmE6fBNrZwksA",
   "collapsed_sections": [],
   "mount_file_id": "1kKi6TU3lo1GR1XLl90xGR7DFdHc7H81O",
   "name": "Ensemble.ipynb",
   "provenance": []
  },
  "kernelspec": {
   "display_name": "Python 3",
   "language": "python",
   "name": "python3"
  },
  "language_info": {
   "codemirror_mode": {
    "name": "ipython",
    "version": 3
   },
   "file_extension": ".py",
   "mimetype": "text/x-python",
   "name": "python",
   "nbconvert_exporter": "python",
   "pygments_lexer": "ipython3",
   "version": "3.7.6"
  }
 },
 "nbformat": 4,
 "nbformat_minor": 1
}
